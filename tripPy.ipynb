{
  "nbformat": 4,
  "nbformat_minor": 0,
  "metadata": {
    "colab": {
      "name": "tripPy.ipynb",
      "private_outputs": true,
      "provenance": [],
      "collapsed_sections": [],
      "machine_shape": "hm",
      "background_execution": "on",
      "mount_file_id": "1xeDZqE5QqYiO45hANfpmjHJldPBnWdxR",
      "authorship_tag": "ABX9TyN/kNWW9l+JUTtnpfbRPJZs",
      "include_colab_link": true
    },
    "kernelspec": {
      "name": "python3",
      "display_name": "Python 3"
    },
    "language_info": {
      "name": "python"
    },
    "accelerator": "GPU",
    "gpuClass": "standard"
  },
  "cells": [
    {
      "cell_type": "markdown",
      "metadata": {
        "id": "view-in-github",
        "colab_type": "text"
      },
      "source": [
        "<a href=\"https://colab.research.google.com/github/jinsusong/TOD/blob/main/tripPy.ipynb\" target=\"_parent\"><img src=\"https://colab.research.google.com/assets/colab-badge.svg\" alt=\"Open In Colab\"/></a>"
      ]
    },
    {
      "cell_type": "code",
      "source": [
        "from google.colab import drive\n",
        "drive.mount('/content/drive')"
      ],
      "metadata": {
        "id": "ex1dlZY-u3Eu"
      },
      "execution_count": null,
      "outputs": []
    },
    {
      "cell_type": "code",
      "source": [
        "%cd /content/drive/MyDrive/NLP/"
      ],
      "metadata": {
        "id": "5zjc3P84i8Lr"
      },
      "execution_count": null,
      "outputs": []
    },
    {
      "cell_type": "code",
      "execution_count": null,
      "metadata": {
        "id": "s19m4ypapLTw"
      },
      "outputs": [],
      "source": [
        "#!git clone https://gitlab.cs.uni-duesseldorf.de/general/dsml/trippy-public.git "
      ]
    },
    {
      "cell_type": "code",
      "source": [
        "!ls -al"
      ],
      "metadata": {
        "id": "d-sd9mBLjyGo"
      },
      "execution_count": null,
      "outputs": []
    },
    {
      "cell_type": "code",
      "source": [
        "%cd trippy-public/"
      ],
      "metadata": {
        "id": "pp8kvXggj0gf"
      },
      "execution_count": null,
      "outputs": []
    },
    {
      "cell_type": "code",
      "source": [
        "#install import \n",
        "#!pip install tensorboardX\n",
        "!pip install transformers==2.9.1\n",
        "!pip install pytorch-lightning==0.7.6\n",
        "!pip install -q aitextgen==0.2.3"
      ],
      "metadata": {
        "id": "HYcXZNwslS19"
      },
      "execution_count": null,
      "outputs": []
    },
    {
      "cell_type": "code",
      "source": [
        "!pwd"
      ],
      "metadata": {
        "id": "Mrzahx5SlJXV"
      },
      "execution_count": null,
      "outputs": []
    },
    {
      "cell_type": "code",
      "source": [
        "!cp /content/drive/MyDrive/NLP/trippy-public/modeling_bert_dst.py /content"
      ],
      "metadata": {
        "id": "AYYXtrm3_eAV"
      },
      "execution_count": null,
      "outputs": []
    },
    {
      "cell_type": "code",
      "source": [
        "!sh DO.example.simple"
      ],
      "metadata": {
        "id": "4py19PnJj5qi"
      },
      "execution_count": null,
      "outputs": []
    },
    {
      "cell_type": "code",
      "source": [
        ""
      ],
      "metadata": {
        "id": "tVIAlTLOFn9x"
      },
      "execution_count": null,
      "outputs": []
    }
  ]
}