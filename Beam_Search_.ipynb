{
  "nbformat": 4,
  "nbformat_minor": 0,
  "metadata": {
    "colab": {
      "name": "Beam Search .ipynb",
      "private_outputs": true,
      "provenance": [],
      "authorship_tag": "ABX9TyPGkteL6/PfGGEutQaNtIdW",
      "include_colab_link": true
    },
    "kernelspec": {
      "name": "python3",
      "display_name": "Python 3"
    },
    "language_info": {
      "name": "python"
    }
  },
  "cells": [
    {
      "cell_type": "markdown",
      "metadata": {
        "id": "view-in-github",
        "colab_type": "text"
      },
      "source": [
        "<a href=\"https://colab.research.google.com/github/jinsusong/TOD/blob/main/Beam_Search_.ipynb\" target=\"_parent\"><img src=\"https://colab.research.google.com/assets/colab-badge.svg\" alt=\"Open In Colab\"/></a>"
      ]
    },
    {
      "cell_type": "markdown",
      "source": [
        "### Beam Search Algorithm\n",
        "parameter k가 주어질 때 예측된 확률 분포의 시퀀스에 대해 beam search를 진행하는 과정은 다음과 같다.\n",
        "\n",
        "- 각 스텝에서 각각의 후보 시퀀스를 모든 가능한 다음 step으로 확장한다.\n",
        "- 확장된 후보 스텝에 대해 점수를 계산하는데, 점수는 모든 확률 값을 곱하여 얻는다.\n",
        "- 가능도가 높은 k개의 시퀀스만 남기고, 나머지 후보들은 제거한다.\n",
        "- 시퀀스가 끝날 때까지 위의 과정을 반복한다.\n",
        "\n",
        "여기서 4번째 단계에서 시퀀스의 끝을 판별할 때\n",
        "\n",
        "- <eos> 토큰이 등장함\n",
        "- 설정한 최대 길이에 도달\n",
        "t- hreshold likelihood 밑으로 가능도가 낮아짐\n",
        "- 등의 기준을 추가로 사용할 수 있다. "
      ],
      "metadata": {
        "id": "h6mJC52SlAek"
      }
    },
    {
      "cell_type": "code",
      "execution_count": null,
      "metadata": {
        "id": "MvN6e7R6j70V"
      },
      "outputs": [],
      "source": [
        "import numpy as np \n",
        "def log(number):\n",
        "    #log에 0이 들어가는 것을 막기 위해 아주 작은 수를 더해줌.\n",
        "    return np.log(number + 1e-10)\n",
        "\n",
        "def naive_beam_search_decoder(predictions, k):\n",
        "    #prediction = (seq_len, V)\n",
        "    sequences = [[list(), 1.0]]\n",
        "    print(\"sequences : \",sequences)\n",
        "\n",
        "    for row in predictions:\n",
        "        print(\"row : \" , row)\n",
        "        all_candidates = list()\n",
        "        print(\"all_candidates : \" , all_candidates)\n",
        "\n",
        "        # 1. 각각의 timestep에서 가능한 후보군으로 확장 \n",
        "        for i in range(len(sequences)):\n",
        "            print(\"i : \" , i)\n",
        "            seq, score = sequences[i]\n",
        "            print(\"seq, score : \" , seq, score)\n",
        "\n",
        "            # 2. 확장된 후보 스텝에 대해 점수 계산 \n",
        "            for j in range(len(row)):\n",
        "                #print(\"j : \" , j)\n",
        "                new_seq = seq + [j]\n",
        "                new_score = score * -log(row[j])\n",
        "                candidate = [new_seq, new_score]\n",
        "                all_candidates.append(candidate)\n",
        "\n",
        "\n",
        "        # 3. 가능도가 높은 k개의 시퀀스만 남김 \n",
        "        ordered = sorted(all_candidates, key=lambda tup:tup[1]) # 점수 기준 정렬 \n",
        "        sequences = ordered[:k]\n",
        "    return sequences\n",
        "\n",
        "\n"
      ]
    },
    {
      "cell_type": "code",
      "source": [
        "import random\n",
        "seq_len = 4 \n",
        "V = 10 \n",
        "random.seed(1)\n",
        "predictions = [[random.random() for _ in range(V)] for _ in range(seq_len)]\n",
        "\n"
      ],
      "metadata": {
        "id": "KbyqL9LulOtF"
      },
      "execution_count": null,
      "outputs": []
    },
    {
      "cell_type": "code",
      "source": [
        "t = random.random()\n",
        "t"
      ],
      "metadata": {
        "id": "HLepFT3VpcZA"
      },
      "execution_count": null,
      "outputs": []
    },
    {
      "cell_type": "code",
      "source": [
        "from pprint import pprint\n",
        "pprint(predictions)"
      ],
      "metadata": {
        "id": "P5MKrPF4lYH0"
      },
      "execution_count": null,
      "outputs": []
    },
    {
      "cell_type": "code",
      "source": [
        "naive_beam_search_decoder(predictions, k=2)"
      ],
      "metadata": {
        "id": "16WjegeamXSw"
      },
      "execution_count": null,
      "outputs": []
    },
    {
      "cell_type": "code",
      "source": [
        ""
      ],
      "metadata": {
        "id": "nnzbbU3MoGiX"
      },
      "execution_count": null,
      "outputs": []
    }
  ]
}