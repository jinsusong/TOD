{
  "nbformat": 4,
  "nbformat_minor": 0,
  "metadata": {
    "colab": {
      "name": "TRADE DST.ipynb",
      "private_outputs": true,
      "provenance": [],
      "machine_shape": "hm",
      "background_execution": "on",
      "mount_file_id": "1I0fG8ci3WJEI34ZK03Tm71r_NXDH-I0W",
      "authorship_tag": "ABX9TyOhA+PWzK2SSuBfv79oJ6V5",
      "include_colab_link": true
    },
    "kernelspec": {
      "name": "python3",
      "display_name": "Python 3"
    },
    "language_info": {
      "name": "python"
    },
    "accelerator": "GPU"
  },
  "cells": [
    {
      "cell_type": "markdown",
      "metadata": {
        "id": "view-in-github",
        "colab_type": "text"
      },
      "source": [
        "<a href=\"https://colab.research.google.com/github/jinsusong/TOD/blob/main/TRADE_DST.ipynb\" target=\"_parent\"><img src=\"https://colab.research.google.com/assets/colab-badge.svg\" alt=\"Open In Colab\"/></a>"
      ]
    },
    {
      "cell_type": "code",
      "execution_count": null,
      "metadata": {
        "id": "2A_9EV6fw6mI"
      },
      "outputs": [],
      "source": [
        "# gpu 확인 \n",
        "!nvidia-smi"
      ]
    },
    {
      "cell_type": "code",
      "source": [
        "# cpu 확인\n",
        "!head /proc/cpuinfo"
      ],
      "metadata": {
        "id": "eTHWs1IExI4J"
      },
      "execution_count": null,
      "outputs": []
    },
    {
      "cell_type": "code",
      "source": [
        "# 메모리 정보 확인\n",
        "!head -n 3 /proc/meminfo"
      ],
      "metadata": {
        "id": "kNm_0NPdxJHW"
      },
      "execution_count": null,
      "outputs": []
    },
    {
      "cell_type": "code",
      "source": [
        "from google.colab import drive\n",
        "drive.mount('/content/drive/')"
      ],
      "metadata": {
        "id": "R_WCoAQWxKWa"
      },
      "execution_count": null,
      "outputs": []
    },
    {
      "cell_type": "code",
      "source": [
        "%cd \"/content/drive/My Drive/NLP/trade-dst\""
      ],
      "metadata": {
        "id": "0z8tGmu2xL53"
      },
      "execution_count": null,
      "outputs": []
    },
    {
      "cell_type": "code",
      "source": [
        "#!git clone https://github.com/jasonwu0731/trade-dst.git"
      ],
      "metadata": {
        "id": "-x6Rzt-RxQG5"
      },
      "execution_count": null,
      "outputs": []
    },
    {
      "cell_type": "code",
      "source": [
        "!python create_data.py"
      ],
      "metadata": {
        "id": "WcnyzvuMxYbL"
      },
      "execution_count": null,
      "outputs": []
    },
    {
      "cell_type": "code",
      "source": [
        "! pip install --upgrade cython"
      ],
      "metadata": {
        "id": "4egXfCHjUvOJ"
      },
      "execution_count": null,
      "outputs": []
    },
    {
      "cell_type": "code",
      "source": [
        "!pip install -r requirements.txt"
      ],
      "metadata": {
        "id": "fLCbIbBSyvSt"
      },
      "execution_count": null,
      "outputs": []
    },
    {
      "cell_type": "code",
      "source": [
        "#!pip install embeddings"
      ],
      "metadata": {
        "id": "kXYz4NMrV7Zh"
      },
      "execution_count": null,
      "outputs": []
    },
    {
      "cell_type": "code",
      "source": [
        "# 훈련\n",
        "!python myTrain.py -dec=TRADE -bsz=32 -dr=0.2 -lr=0.001 -le=1"
      ],
      "metadata": {
        "id": "YKCkE3mfUxlQ"
      },
      "execution_count": null,
      "outputs": []
    },
    {
      "cell_type": "code",
      "source": [
        "[Warning] Using hidden size = 400 for pretrained word embedding (300 + 100)...\n",
        "{'dataset': 'multiwoz', 'task': 'dst', 'path': None, 'sample': None, 'patience': 6, 'earlyStop': 'BLEU', 'all_vocab': 1, 'imbalance_sampler': 0, 'data_ratio': 100, 'unk_mask': 1, 'batch': 32, 'run_dev_testing': 0, 'vizualization': 0, 'genSample': 0, 'evalp': 1, 'addName': '', 'eval_batch': 0, 'use_gate': 1, 'load_embedding': 1, 'fix_embedding': 0, 'parallel_decode': 0, 'decoder': 'TRADE', 'hidden': 400, 'learn': 0.001, 'drop': 0.2, 'limit': -10000, 'clip': 10, 'teacher_forcing_ratio': 0.5, 'lambda_ewc': 0.01, 'fisher_sample': 0, 'all_model': False, 'domain_as_task': False, 'run_except_4d': 1, 'strict_domain': False, 'except_domain': '', 'only_domain': ''}\n",
        "folder_name save/TRADE-multiwozdst/\n",
        "Reading from data/train_dials.json\n",
        "domain_counter {'hotel': 3381, 'train': 3103, 'restaurant': 3813, 'attraction': 2717, 'taxi': 1654}\n",
        "Reading from data/dev_dials.json\n",
        "domain_counter {'train': 484, 'hotel': 416, 'attraction': 401, 'restaurant': 438, 'taxi': 207}\n",
        "Reading from data/test_dials.json\n",
        "domain_counter {'taxi': 195, 'restaurant': 437, 'attraction': 395, 'train': 494, 'hotel': 394}\n",
        "[Info] Dumping lang files...\n",
        "Dumping pretrained embeddings...\n",
        "Downloading from http://nlp.stanford.edu/data/glove.840B.300d.zip to /root/.embeddings/glove/common_crawl_840.zip\n",
        "/usr/local/lib/python3.7/dist-packages/urllib3/connectionpool.py:847: InsecureRequestWarning: Unverified HTTPS request is being made. Adding certificate verification is strongly advised. See: https://urllib3.readthedocs.io/en/latest/advanced-usage.html#ssl-warnings\n",
        "  InsecureRequestWarning)\n",
        "2196017it [08:20, 4388.01it/s]\n",
        "Downloading from https://www.logos.t.u-tokyo.ac.jp/~hassy/publications/arxiv2016jmt/jmt_pre-trained_embeddings.tar.gz to /root/.embeddings/kazuma.tar.gz\n",
        "/usr/local/lib/python3.7/dist-packages/urllib3/connectionpool.py:847: InsecureRequestWarning: Unverified HTTPS request is being made. Adding certificate verification is strongly advised. See: https://urllib3.readthedocs.io/en/latest/advanced-usage.html#ssl-warnings\n",
        "  InsecureRequestWarning)\n",
        "100% 874474/874474 [01:29<00:00, 9717.90it/s]\n",
        "100% 18311/18311 [00:12<00:00, 1432.42it/s]\n",
        "Read 56668 pairs train\n",
        "Read 7374 pairs dev\n",
        "Read 7368 pairs test\n",
        "Vocab_size: 18311 \n",
        "Vocab_size Training 15462\n",
        "Vocab_size Belief 1029\n",
        "Max. length of dialog words for RNN: 880 \n",
        "USE_CUDA=True\n",
        "[Train Set & Dev Set Slots]: Number is 30 in total\n",
        "['hotel-pricerange', 'hotel-type', 'hotel-parking', 'hotel-book stay', 'hotel-book day', 'hotel-book people', 'hotel-area', 'hotel-stars', 'hotel-internet', 'train-destination', 'train-day', 'train-departure', 'train-arriveby', 'train-book people', 'train-leaveat', 'attraction-area', 'restaurant-food', 'restaurant-pricerange', 'restaurant-area', 'attraction-name', 'restaurant-name', 'attraction-type', 'hotel-name', 'taxi-leaveat', 'taxi-destination', 'taxi-departure', 'restaurant-book time', 'restaurant-book day', 'restaurant-book people', 'taxi-arriveby']\n",
        "[Test Set Slots]: Number is 30 in total\n",
        "['hotel-pricerange', 'hotel-type', 'hotel-parking', 'hotel-book stay', 'hotel-book day', 'hotel-book people', 'hotel-area', 'hotel-stars', 'hotel-internet', 'train-destination', 'train-day', 'train-departure', 'train-arriveby', 'train-book people', 'train-leaveat', 'attraction-area', 'restaurant-food', 'restaurant-pricerange', 'restaurant-area', 'attraction-name', 'restaurant-name', 'attraction-type', 'hotel-name', 'taxi-leaveat', 'taxi-destination', 'taxi-departure', 'restaurant-book time', 'restaurant-book day', 'restaurant-book people', 'taxi-arriveby']\n",
        "/usr/local/lib/python3.7/dist-packages/torch/nn/modules/rnn.py:65: UserWarning: dropout option adds dropout after all but last recurrent layer, so non-zero dropout expects num_layers greater than 1, but got dropout=0.2 and num_layers=1\n",
        "  \"num_layers={}\".format(dropout, num_layers))\n",
        "Encoder embedding requires_grad True\n",
        "Epoch:0\n",
        "L:0.40,LP:0.24,LG:0.16: 100% 1771/1771 [41:12<00:00,  1.40s/it]\n",
        "STARTING EVALUATION\n",
        "100% 231/231 [04:54<00:00,  1.28s/it]\n",
        "{'Joint Acc': 0.4157851912123678, 'Turn Acc': 0.9622864117167956, 'Joint F1': 0.8647839106106238}\n",
        "MODEL SAVED\n",
        "Epoch:1\n",
        "L:0.23,LP:0.13,LG:0.10: 100% 1771/1771 [45:10<00:00,  1.53s/it]\n",
        "STARTING EVALUATION\n",
        "100% 231/231 [04:53<00:00,  1.27s/it]\n",
        "{'Joint Acc': 0.457824789802007, 'Turn Acc': 0.9672723985172651, 'Joint F1': 0.8858438452432122}\n",
        "MODEL SAVED\n",
        "Epoch:2\n",
        "L:0.19,LP:0.11,LG:0.08: 100% 1771/1771 [45:23<00:00,  1.54s/it]\n",
        "STARTING EVALUATION\n",
        "100% 231/231 [05:01<00:00,  1.31s/it]\n",
        "{'Joint Acc': 0.4689449416870084, 'Turn Acc': 0.9681764759062915, 'Joint F1': 0.8892993543471204}\n",
        "MODEL SAVED\n",
        "Epoch:3\n",
        "L:0.17,LP:0.10,LG:0.07: 100% 1771/1771 [45:53<00:00,  1.55s/it]\n",
        "STARTING EVALUATION\n",
        "100% 231/231 [04:59<00:00,  1.29s/it]\n",
        "{'Joint Acc': 0.4827773257390833, 'Turn Acc': 0.9691890425820007, 'Joint F1': 0.8921799929268304}\n",
        "MODEL SAVED\n",
        "Epoch:4\n",
        "L:0.16,LP:0.09,LG:0.07: 100% 1771/1771 [45:14<00:00,  1.53s/it]\n",
        "STARTING EVALUATION\n",
        "100% 231/231 [04:52<00:00,  1.27s/it]\n",
        "{'Joint Acc': 0.4753186872796311, 'Turn Acc': 0.9695416327637192, 'Joint F1': 0.8896127168886141}\n",
        "Epoch:5\n",
        "L:0.15,LP:0.08,LG:0.06: 100% 1771/1771 [44:47<00:00,  1.52s/it]\n",
        "STARTING EVALUATION\n",
        "100% 231/231 [04:53<00:00,  1.27s/it]\n",
        "{'Joint Acc': 0.4799294819636561, 'Turn Acc': 0.9697088870806863, 'Joint F1': 0.8934302750108771}\n",
        "Epoch 00006: reducing learning rate of group 0 to 5.0000e-04.\n",
        "Epoch:6\n",
        "L:0.12,LP:0.07,LG:0.05: 100% 1771/1771 [44:56<00:00,  1.52s/it]\n",
        "STARTING EVALUATION\n",
        "100% 231/231 [04:45<00:00,  1.23s/it]\n",
        "{'Joint Acc': 0.4924057499321942, 'Turn Acc': 0.9707169333694518, 'Joint F1': 0.898353193004221}\n",
        "MODEL SAVED\n",
        "Epoch:7\n",
        "L:0.11,LP:0.07,LG:0.05: 100% 1771/1771 [44:56<00:00,  1.52s/it]\n",
        "STARTING EVALUATION\n",
        "100% 231/231 [04:52<00:00,  1.27s/it]\n",
        "{'Joint Acc': 0.4879305668565229, 'Turn Acc': 0.9702694150618844, 'Joint F1': 0.8962960386659686}\n",
        "Epoch:8\n",
        "L:0.11,LP:0.06,LG:0.04: 100% 1771/1771 [44:46<00:00,  1.52s/it]\n",
        "STARTING EVALUATION\n",
        "100% 231/231 [04:52<00:00,  1.27s/it]\n",
        "{'Joint Acc': 0.4917276918904258, 'Turn Acc': 0.970753096465013, 'Joint F1': 0.8981016913889834}\n",
        "Epoch 00009: reducing learning rate of group 0 to 2.5000e-04.\n",
        "Epoch:9\n",
        "L:0.10,LP:0.06,LG:0.04: 100% 1771/1771 [44:55<00:00,  1.52s/it]\n",
        "STARTING EVALUATION\n",
        "100% 231/231 [04:50<00:00,  1.26s/it]\n",
        "{'Joint Acc': 0.49227013832384053, 'Turn Acc': 0.9707576168519586, 'Joint F1': 0.8976789245289301}\n",
        "Epoch:10\n",
        "L:0.09,LP:0.06,LG:0.04: 100% 1771/1771 [44:36<00:00,  1.51s/it]\n",
        "STARTING EVALUATION\n",
        "100% 231/231 [04:52<00:00,  1.27s/it]\n",
        "{'Joint Acc': 0.49321941958231624, 'Turn Acc': 0.970328180092172, 'Joint F1': 0.8968902902303497}\n",
        "MODEL SAVED\n",
        "Epoch:11\n",
        "L:0.09,LP:0.05,LG:0.03: 100% 1771/1771 [44:53<00:00,  1.52s/it]\n",
        "STARTING EVALUATION\n",
        "100% 231/231 [04:50<00:00,  1.26s/it]\n",
        "{'Joint Acc': 0.4936262544073773, 'Turn Acc': 0.9705677606002643, 'Joint F1': 0.8965525785478207}\n",
        "MODEL SAVED\n",
        "Epoch:12\n",
        "L:0.09,LP:0.05,LG:0.03: 100% 1771/1771 [44:43<00:00,  1.51s/it]\n",
        "STARTING EVALUATION\n",
        "100% 231/231 [04:51<00:00,  1.26s/it]\n",
        "{'Joint Acc': 0.49227013832384053, 'Turn Acc': 0.9701835277099278, 'Joint F1': 0.8966797903110911}\n",
        "Epoch:13\n",
        "L:0.08,LP:0.05,LG:0.03: 100% 1771/1771 [44:32<00:00,  1.51s/it]\n",
        "STARTING EVALUATION\n",
        "100% 231/231 [04:42<00:00,  1.22s/it]\n",
        "{'Joint Acc': 0.489151071331706, 'Turn Acc': 0.970671729499996, 'Joint F1': 0.8972614535801736}\n",
        "Epoch 00014: reducing learning rate of group 0 to 1.2500e-04.\n",
        "Epoch:14\n",
        "L:0.08,LP:0.05,LG:0.03: 100% 1771/1771 [44:14<00:00,  1.50s/it]\n",
        "STARTING EVALUATION\n",
        "100% 231/231 [04:47<00:00,  1.24s/it]\n",
        "{'Joint Acc': 0.4936262544073773, 'Turn Acc': 0.9710062381339385, 'Joint F1': 0.8983729081966834}\n",
        "MODEL SAVED\n",
        "Epoch:15\n",
        "L:0.08,LP:0.05,LG:0.03: 100% 1771/1771 [44:15<00:00,  1.50s/it]\n",
        "STARTING EVALUATION\n",
        "100% 231/231 [04:42<00:00,  1.22s/it]\n",
        "{'Joint Acc': 0.49376186601573097, 'Turn Acc': 0.971024319681718, 'Joint F1': 0.8987657692805254}\n",
        "MODEL SAVED\n",
        "Epoch:16\n",
        "L:0.07,LP:0.05,LG:0.03: 100% 1771/1771 [44:01<00:00,  1.49s/it]\n",
        "STARTING EVALUATION\n",
        "100% 231/231 [04:40<00:00,  1.21s/it]\n",
        "{'Joint Acc': 0.49403308923243827, 'Turn Acc': 0.9708073411083519, 'Joint F1': 0.8981992108506199}\n",
        "MODEL SAVED\n",
        "Epoch:17\n",
        "L:0.07,LP:0.04,LG:0.03: 100% 1771/1771 [44:04<00:00,  1.49s/it]\n",
        "STARTING EVALUATION\n",
        "100% 231/231 [04:43<00:00,  1.23s/it]\n",
        "{'Joint Acc': 0.49104963384865746, 'Turn Acc': 0.9704411897658, 'Joint F1': 0.8969165841474351}\n",
        "Epoch:18\n",
        "L:0.07,LP:0.04,LG:0.03: 100% 1771/1771 [44:15<00:00,  1.50s/it]\n",
        "STARTING EVALUATION\n",
        "100% 231/231 [04:47<00:00,  1.24s/it]\n",
        "{'Joint Acc': 0.49118524545701114, 'Turn Acc': 0.9706039236958222, 'Joint F1': 0.8975987123008146}\n",
        "Epoch 00019: reducing learning rate of group 0 to 1.0000e-04.\n",
        "Epoch:19\n",
        "L:0.07,LP:0.04,LG:0.03: 100% 1771/1771 [44:39<00:00,  1.51s/it]\n",
        "STARTING EVALUATION\n",
        "100% 231/231 [04:52<00:00,  1.27s/it]\n",
        "{'Joint Acc': 0.4909140222403038, 'Turn Acc': 0.9702694150618824, 'Joint F1': 0.8967413991311037}\n",
        "Epoch:20\n",
        "L:0.07,LP:0.04,LG:0.03: 100% 1771/1771 [44:49<00:00,  1.52s/it]\n",
        "STARTING EVALUATION\n",
        "100% 231/231 [04:50<00:00,  1.26s/it]\n",
        "{'Joint Acc': 0.49037157580688906, 'Turn Acc': 0.9706943314347241, 'Joint F1': 0.8976566185547804}\n",
        "Epoch:21\n",
        "L:0.07,LP:0.04,LG:0.03: 100% 1771/1771 [44:49<00:00,  1.52s/it]\n",
        "STARTING EVALUATION\n",
        "100% 231/231 [04:55<00:00,  1.28s/it]\n",
        "{'Joint Acc': 0.489964740981828, 'Turn Acc': 0.9704773528613586, 'Joint F1': 0.8972097209161094}\n",
        "Epoch:22\n",
        "L:0.07,LP:0.04,LG:0.03: 100% 1771/1771 [44:44<00:00,  1.52s/it]\n",
        "STARTING EVALUATION\n",
        "100% 231/231 [04:48<00:00,  1.25s/it]\n",
        "{'Joint Acc': 0.4879305668565229, 'Turn Acc': 0.9699349064279421, 'Joint F1': 0.8957495211427545}\n",
        "Ran out of patient, early stop..."
      ],
      "metadata": {
        "id": "n3BmRiOP5_Ab"
      },
      "execution_count": null,
      "outputs": []
    },
    {
      "cell_type": "code",
      "source": [
        "!python myTest.py -path=\"/content/drive/MyDrive/NLP/trade-dst/eval\""
      ],
      "metadata": {
        "id": "A4A1SSxbV3zR"
      },
      "execution_count": null,
      "outputs": []
    },
    {
      "cell_type": "code",
      "source": [
        ""
      ],
      "metadata": {
        "id": "kZfuI0pTiyuA"
      },
      "execution_count": null,
      "outputs": []
    }
  ]
}