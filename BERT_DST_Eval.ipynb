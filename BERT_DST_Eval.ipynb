{
  "nbformat": 4,
  "nbformat_minor": 0,
  "metadata": {
    "colab": {
      "name": "BERT DST pytorch.ipynb",
      "private_outputs": true,
      "provenance": [],
      "machine_shape": "hm",
      "background_execution": "on",
      "mount_file_id": "https://github.com/jinsusong/TOD/blob/main/BERT_DST_Eval.ipynb",
      "authorship_tag": "ABX9TyOzUAU5HjGgMSFvI1LdlEjZ",
      "include_colab_link": true
    },
    "kernelspec": {
      "name": "python3",
      "display_name": "Python 3"
    },
    "language_info": {
      "name": "python"
    },
    "accelerator": "GPU"
  },
  "cells": [
    {
      "cell_type": "markdown",
      "metadata": {
        "id": "view-in-github",
        "colab_type": "text"
      },
      "source": [
        "<a href=\"https://colab.research.google.com/github/jinsusong/TOD/blob/main/BERT_DST_Eval.ipynb\" target=\"_parent\"><img src=\"https://colab.research.google.com/assets/colab-badge.svg\" alt=\"Open In Colab\"/></a>"
      ]
    },
    {
      "cell_type": "markdown",
      "source": [
        "### 코랩 연결 끊김 방지 "
      ],
      "metadata": {
        "id": "ZMGx2b3L1tjy"
      }
    },
    {
      "cell_type": "markdown",
      "source": [
        "function ClickConnect(){\n",
        "    console.log(\"코랩 연결 끊김 방지 \"+ Date()); \n",
        "    document.querySelector(\"colab-toolbar-button#connect\").click() \n",
        "}\n",
        "setInterval(ClickConnect, 60 * 1000)"
      ],
      "metadata": {
        "id": "txSNoRFj1xLi"
      }
    },
    {
      "cell_type": "code",
      "source": [
        "# gpu 확인 \n",
        "!nvidia-smi"
      ],
      "metadata": {
        "id": "ZnxiWJbU4Kv1"
      },
      "execution_count": null,
      "outputs": []
    },
    {
      "cell_type": "code",
      "source": [
        "# cpu 확인\n",
        "!head /proc/cpuinfo"
      ],
      "metadata": {
        "id": "keMxjIf24UVT"
      },
      "execution_count": null,
      "outputs": []
    },
    {
      "cell_type": "code",
      "source": [
        "# 메모리 정보 확인\n",
        "!head -n 3 /proc/meminfo"
      ],
      "metadata": {
        "id": "qgIR-tjA4XJU"
      },
      "execution_count": null,
      "outputs": []
    },
    {
      "cell_type": "code",
      "source": [
        "from google.colab import drive\n",
        "drive.mount('/content/drive')"
      ],
      "metadata": {
        "id": "ktp1OxpdpYvt"
      },
      "execution_count": null,
      "outputs": []
    },
    {
      "cell_type": "code",
      "source": [
        "%cd \"/content/drive/My Drive/\""
      ],
      "metadata": {
        "id": "qFlcsun2pvNv"
      },
      "execution_count": null,
      "outputs": []
    },
    {
      "cell_type": "code",
      "execution_count": null,
      "metadata": {
        "id": "739_mTH3hir9"
      },
      "outputs": [],
      "source": [
        "#!git clone https://github.com/laituan245/BERT-Dialog-State-Tracking.git"
      ]
    },
    {
      "cell_type": "code",
      "source": [
        "%cd BERT-Dialog-State-Tracking/"
      ],
      "metadata": {
        "id": "WER6l9qYnPow"
      },
      "execution_count": null,
      "outputs": []
    },
    {
      "cell_type": "code",
      "source": [
        "!python main.py --do_eval --data_dir=data/woz/ --bert_model=bert-base-uncased --output_dir=outputs"
      ],
      "metadata": {
        "id": "q-Sdj5opmfUo"
      },
      "execution_count": null,
      "outputs": []
    },
    {
      "cell_type": "code",
      "source": [
        " !!!!!!!!!!!!!!!!!!!!! main start\n",
        "Device Type: cuda | Number of GPUs: 1\n",
        "Loaded Datasets and Ontology\n",
        "Number of Train Dialogues: 600\n",
        "Number of Dev Dialogues: 200\n",
        "Number of Test Dialogues: 400\n",
        "opts :  Namespace(batch_size=16, bert_model='bert-base-uncased', data_dir=PosixPath('data/woz'), device=device(type='cuda'), do_eval=True, do_train=False, epochs=25, gradient_accumulation_steps=8, learning_rate=2e-05, n_gpus=1, no_cuda=False, output_dir=PosixPath('outputs'), random_oversampling=False, warmup_proportion=0.1)\n",
        "Restored the model and the tokenizer from outputs\n",
        "Number of model parameters is: 109483778\n",
        "Start Evaluating\n",
        "turns :  [<dataset.Turn object at 0x7f537806fd50>, \n",
        "{'turn_inform': 0.9506024096385542, 'turn_request': 0.980722891566265, 'joint_goal': 0.9120481927710843}\n",
        "{'turn_inform': 0.9289185905224787, 'turn_request': 0.9763061968408262, 'joint_goal': 0.8869987849331713}\n",
        " !!!!!!!!!!!!!!!!!!!!! main end"
      ],
      "metadata": {
        "id": "BTaXaqiotlZU"
      },
      "execution_count": null,
      "outputs": []
    },
    {
      "cell_type": "markdown",
      "source": [
        ""
      ],
      "metadata": {
        "id": "waNzld_oqBEH"
      }
    }
  ]
}