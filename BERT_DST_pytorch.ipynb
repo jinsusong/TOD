{
  "nbformat": 4,
  "nbformat_minor": 0,
  "metadata": {
    "colab": {
      "name": "BERT DST pytorch.ipynb",
      "private_outputs": true,
      "provenance": [],
      "machine_shape": "hm",
      "background_execution": "on",
      "mount_file_id": "https://github.com/jinsusong/TOD/blob/main/BERT_DST_pytorch.ipynb",
      "authorship_tag": "ABX9TyOWGKmvVLJzcFbtijJ2MiWZ",
      "include_colab_link": true
    },
    "kernelspec": {
      "name": "python3",
      "display_name": "Python 3"
    },
    "language_info": {
      "name": "python"
    },
    "accelerator": "GPU"
  },
  "cells": [
    {
      "cell_type": "markdown",
      "metadata": {
        "id": "view-in-github",
        "colab_type": "text"
      },
      "source": [
        "<a href=\"https://colab.research.google.com/github/jinsusong/TOD/blob/main/BERT_DST_pytorch.ipynb\" target=\"_parent\"><img src=\"https://colab.research.google.com/assets/colab-badge.svg\" alt=\"Open In Colab\"/></a>"
      ]
    },
    {
      "cell_type": "markdown",
      "source": [
        "### 코랩 연결 끊김 방지 "
      ],
      "metadata": {
        "id": "ZMGx2b3L1tjy"
      }
    },
    {
      "cell_type": "markdown",
      "source": [
        "function ClickConnect(){\n",
        "    console.log(\"코랩 연결 끊김 방지 \"+ Date()); \n",
        "    document.querySelector(\"colab-toolbar-button#connect\").click() \n",
        "}\n",
        "setInterval(ClickConnect, 60 * 1000)"
      ],
      "metadata": {
        "id": "txSNoRFj1xLi"
      }
    },
    {
      "cell_type": "code",
      "source": [
        "# gpu 확인 \n",
        "!nvidia-smi"
      ],
      "metadata": {
        "id": "ZnxiWJbU4Kv1"
      },
      "execution_count": null,
      "outputs": []
    },
    {
      "cell_type": "code",
      "source": [
        "# cpu 확인\n",
        "!head /proc/cpuinfo"
      ],
      "metadata": {
        "id": "keMxjIf24UVT"
      },
      "execution_count": null,
      "outputs": []
    },
    {
      "cell_type": "code",
      "source": [
        "# 메모리 정보 확인\n",
        "!head -n 3 /proc/meminfo"
      ],
      "metadata": {
        "id": "qgIR-tjA4XJU"
      },
      "execution_count": null,
      "outputs": []
    },
    {
      "cell_type": "code",
      "source": [
        "from google.colab import drive\n",
        "drive.mount('/content/drive')"
      ],
      "metadata": {
        "id": "ktp1OxpdpYvt"
      },
      "execution_count": null,
      "outputs": []
    },
    {
      "cell_type": "code",
      "source": [
        "%cd \"/content/drive/My Drive/\""
      ],
      "metadata": {
        "id": "qFlcsun2pvNv"
      },
      "execution_count": null,
      "outputs": []
    },
    {
      "cell_type": "code",
      "execution_count": null,
      "metadata": {
        "id": "739_mTH3hir9"
      },
      "outputs": [],
      "source": [
        "#!git clone https://github.com/laituan245/BERT-Dialog-State-Tracking.git"
      ]
    },
    {
      "cell_type": "code",
      "source": [
        "%cd BERT-Dialog-State-Tracking/"
      ],
      "metadata": {
        "id": "WER6l9qYnPow"
      },
      "execution_count": null,
      "outputs": []
    },
    {
      "cell_type": "code",
      "source": [
        "!python main.py --do_train --data_dir=data/woz/ --bert_model=bert-base-uncased --output_dir=outputs"
      ],
      "metadata": {
        "id": "q-Sdj5opmfUo"
      },
      "execution_count": null,
      "outputs": []
    },
    {
      "cell_type": "code",
      "source": [
        " !!!!!!!!!!!!!!!!!!!!! main start\n",
        "!!!!!!!!!!!!!!!!!!!parser start \n",
        "!!!!!!!!!!!!!!!!!!!parser end \n",
        "!!!!!!!!!!!!!!!!!!!opts start  \n",
        "!!!!!!!!!!!!!!!!!!!opts end  \n",
        "Device Type: cuda | Number of GPUs: 1\n",
        "Loaded Datasets and Ontology\n",
        "Number of Train Dialogues: 600\n",
        "Number of Dev Dialogues: 200\n",
        "Number of Test Dialogues: 400\n",
        "Intialized the model and the tokenizer from scratch\n",
        "Number of model parameters is: 109483778\n",
        "Start Training\n",
        "Generated training examples\n",
        "Epoch 0\n",
        "  0% 13/14899 [00:00<14:07, 17.56it/s, Train Loss: 0.11758879665285349]/content/drive/My Drive/BERT-Dialog-State-Tracking/pytorch_pretrained_bert/optimization.py:275: UserWarning: This overload of add_ is deprecated:\n",
        "\tadd_(Number alpha, Tensor other)\n",
        "Consider using one of the following signatures instead:\n",
        "\tadd_(Tensor other, *, Number alpha) (Triggered internally at  ../torch/csrc/utils/python_arg_parser.cpp:1055.)\n",
        "  next_m.mul_(beta1).add_(1 - beta1, grad)\n",
        "100% 14899/14899 [27:50<00:00,  8.92it/s, Train Loss: 0.008611848269737134]\n",
        "Evaluations after epoch 0\n",
        "{'turn_inform': 0.8518072289156626, 'turn_request': 0.9518072289156626, 'joint_goal': 0.689156626506024}\n",
        "{'turn_inform': 0.8323207776427703, 'turn_request': 0.9520048602673147, 'joint_goal': 0.6713244228432563}\n",
        "Saved the model, the model config and the tokenizer\n",
        "Saved the model\n",
        "Epoch 1\n",
        "100% 14899/14899 [27:53<00:00,  8.90it/s, Train Loss: 0.004855156483147885]\n",
        "Evaluations after epoch 1\n",
        "{'turn_inform': 0.9132530120481928, 'turn_request': 0.9554216867469879, 'joint_goal': 0.8506024096385543}\n",
        "{'turn_inform': 0.9021871202916161, 'turn_request': 0.9611178614823815, 'joint_goal': 0.8292831105710814}\n",
        "Saved the model, the model config and the tokenizer\n",
        "Saved the model\n",
        "Epoch 2\n",
        "100% 14899/14899 [27:53<00:00,  8.90it/s, Train Loss: 0.0034623371315771743]\n",
        "Evaluations after epoch 2\n",
        "{'turn_inform': 0.9253012048192771, 'turn_request': 0.9554216867469879, 'joint_goal': 0.8530120481927711}\n",
        "{'turn_inform': 0.9106925880923451, 'turn_request': 0.9550425273390036, 'joint_goal': 0.8323207776427703}\n",
        "Saved the model, the model config and the tokenizer\n",
        "Saved the model\n",
        "Epoch 3\n",
        "100% 14899/14899 [27:52<00:00,  8.91it/s, Train Loss: 0.002711557692181468]\n",
        "Evaluations after epoch 3\n",
        "{'turn_inform': 0.9180722891566265, 'turn_request': 0.9686746987951808, 'joint_goal': 0.8566265060240964}\n",
        "{'turn_inform': 0.925273390036452, 'turn_request': 0.9696233292831106, 'joint_goal': 0.8809234507897934}\n",
        "Saved the model, the model config and the tokenizer\n",
        "Saved the model\n",
        "Epoch 4\n",
        "100% 14899/14899 [27:53<00:00,  8.90it/s, Train Loss: 0.0022340874417903934]\n",
        "Evaluations after epoch 4\n",
        "{'turn_inform': 0.9433734939759036, 'turn_request': 0.9734939759036144, 'joint_goal': 0.8819277108433735}\n",
        "{'turn_inform': 0.9161603888213852, 'turn_request': 0.968408262454435, 'joint_goal': 0.8511543134872418}\n",
        "Saved the model, the model config and the tokenizer\n",
        "Saved the model\n",
        "Epoch 5\n",
        "100% 14899/14899 [27:53<00:00,  8.90it/s, Train Loss: 0.001903759174012774]\n",
        "Evaluations after epoch 5\n",
        "{'turn_inform': 0.9289156626506024, 'turn_request': 0.9771084337349397, 'joint_goal': 0.8722891566265061}\n",
        "{'turn_inform': 0.9191980558930741, 'turn_request': 0.9775212636695019, 'joint_goal': 0.8778857837181046}\n",
        "Epoch 6\n",
        "100% 14899/14899 [27:53<00:00,  8.90it/s, Train Loss: 0.0016606013958418765]\n",
        "Evaluations after epoch 6\n",
        "{'turn_inform': 0.9409638554216867, 'turn_request': 0.9759036144578314, 'joint_goal': 0.8879518072289156}\n",
        "{'turn_inform': 0.9270959902794653, 'turn_request': 0.9781287970838396, 'joint_goal': 0.8888213851761847}\n",
        "Saved the model, the model config and the tokenizer\n",
        "Saved the model\n",
        "Epoch 7\n",
        "100% 14899/14899 [27:53<00:00,  8.90it/s, Train Loss: 0.0014693966450951628]\n",
        "Evaluations after epoch 7\n",
        "{'turn_inform': 0.9506024096385542, 'turn_request': 0.9783132530120482, 'joint_goal': 0.9048192771084337}\n",
        "{'turn_inform': 0.9331713244228432, 'turn_request': 0.9756986634264885, 'joint_goal': 0.8815309842041312}\n",
        "Saved the model, the model config and the tokenizer\n",
        "Saved the model\n",
        "Epoch 8\n",
        "100% 14899/14899 [27:53<00:00,  8.90it/s, Train Loss: 0.0013173219567119549]\n",
        "Evaluations after epoch 8\n",
        "{'turn_inform': 0.9337349397590361, 'turn_request': 0.9783132530120482, 'joint_goal': 0.8783132530120482}\n",
        "{'turn_inform': 0.9222357229647631, 'turn_request': 0.9738760631834751, 'joint_goal': 0.8736330498177399}\n",
        "Epoch 9\n",
        "100% 14899/14899 [27:53<00:00,  8.90it/s, Train Loss: 0.00119281296712945]\n",
        "Evaluations after epoch 9\n",
        "{'turn_inform': 0.9506024096385542, 'turn_request': 0.980722891566265, 'joint_goal': 0.9120481927710843}\n",
        "{'turn_inform': 0.9289185905224787, 'turn_request': 0.9763061968408262, 'joint_goal': 0.8869987849331713}\n",
        "Saved the model, the model config and the tokenizer\n",
        "Saved the model\n",
        "Epoch 10\n",
        "100% 14899/14899 [27:51<00:00,  8.91it/s, Train Loss: 0.0010923260016924346]\n",
        "Evaluations after epoch 10\n",
        "{'turn_inform': 0.946987951807229, 'turn_request': 0.9746987951807229, 'joint_goal': 0.9060240963855422}\n",
        "{'turn_inform': 0.9301336573511543, 'turn_request': 0.9750911300121506, 'joint_goal': 0.8845686512758202}\n",
        "Epoch 11\n",
        "100% 14899/14899 [27:53<00:00,  8.90it/s, Train Loss: 0.0010057007763065785]\n",
        "Evaluations after epoch 11\n",
        "{'turn_inform': 0.936144578313253, 'turn_request': 0.9843373493975903, 'joint_goal': 0.880722891566265}\n",
        "{'turn_inform': 0.9307411907654921, 'turn_request': 0.9744835965978129, 'joint_goal': 0.8900364520048603}\n",
        "Epoch 12\n",
        "100% 14899/14899 [27:53<00:00,  8.90it/s, Train Loss: 0.0009325184368670468]\n",
        "Evaluations after epoch 12\n",
        "{'turn_inform': 0.9385542168674699, 'turn_request': 0.980722891566265, 'joint_goal': 0.8698795180722891}\n",
        "{'turn_inform': 0.9295261239368166, 'turn_request': 0.9726609963547995, 'joint_goal': 0.8784933171324423}\n",
        "Epoch 13\n",
        "100% 14899/14899 [27:52<00:00,  8.91it/s, Train Loss: 0.0008690579186515845]\n",
        "Evaluations after epoch 13\n",
        "{'turn_inform': 0.9493975903614458, 'turn_request': 0.983132530120482, 'joint_goal': 0.9}\n",
        "{'turn_inform': 0.928311057108141, 'turn_request': 0.9763061968408262, 'joint_goal': 0.8784933171324423}\n",
        "Epoch 14\n",
        "100% 14899/14899 [27:53<00:00,  8.90it/s, Train Loss: 0.000812543023272746]\n",
        "Evaluations after epoch 14\n",
        "{'turn_inform': 0.946987951807229, 'turn_request': 0.9843373493975903, 'joint_goal': 0.9036144578313253}\n",
        "{'turn_inform': 0.9337788578371811, 'turn_request': 0.976913730255164, 'joint_goal': 0.8924665856622114}\n",
        "Epoch 15\n",
        "100% 14899/14899 [27:52<00:00,  8.91it/s, Train Loss: 0.0007636440269037949]\n",
        "Evaluations after epoch 15\n",
        "{'turn_inform': 0.9493975903614458, 'turn_request': 0.9759036144578314, 'joint_goal': 0.8987951807228916}\n",
        "{'turn_inform': 0.9331713244228432, 'turn_request': 0.9744835965978129, 'joint_goal': 0.8894289185905225}\n",
        "Epoch 16\n",
        "100% 14899/14899 [27:53<00:00,  8.90it/s, Train Loss: 0.0007204038363678768]\n",
        "Evaluations after epoch 16\n",
        "{'turn_inform': 0.9481927710843373, 'turn_request': 0.9855421686746988, 'joint_goal': 0.9024096385542169}\n",
        "{'turn_inform': 0.9343863912515188, 'turn_request': 0.9744835965978129, 'joint_goal': 0.8888213851761847}\n",
        "Epoch 17\n",
        "100% 14899/14899 [27:53<00:00,  8.90it/s, Train Loss: 0.0006809991197235177]\n",
        "Evaluations after epoch 17\n",
        "{'turn_inform': 0.9481927710843373, 'turn_request': 0.9843373493975903, 'joint_goal': 0.8951807228915662}\n",
        "{'turn_inform': 0.9343863912515188, 'turn_request': 0.9756986634264885, 'joint_goal': 0.8827460510328068}\n",
        "Epoch 18\n",
        "100% 14899/14899 [27:54<00:00,  8.90it/s, Train Loss: 0.0006456423895878274]\n",
        "Evaluations after epoch 18\n",
        "{'turn_inform': 0.9481927710843373, 'turn_request': 0.983132530120482, 'joint_goal': 0.9096385542168675}\n",
        "{'turn_inform': 0.9325637910085055, 'turn_request': 0.9738760631834751, 'joint_goal': 0.8900364520048603}\n",
        "Epoch 19\n",
        "100% 14899/14899 [27:51<00:00,  8.92it/s, Train Loss: 0.0006134894730630377]\n",
        "Evaluations after epoch 19\n",
        "{'turn_inform': 0.9481927710843373, 'turn_request': 0.983132530120482, 'joint_goal': 0.9108433734939759}\n",
        "{'turn_inform': 0.9343863912515188, 'turn_request': 0.9738760631834751, 'joint_goal': 0.8918590522478737}\n",
        "Epoch 20\n",
        "100% 14899/14899 [27:52<00:00,  8.91it/s, Train Loss: 0.0005847944025887296]\n",
        "Evaluations after epoch 20\n",
        "{'turn_inform': 0.9518072289156626, 'turn_request': 0.9855421686746988, 'joint_goal': 0.908433734939759}\n",
        "{'turn_inform': 0.9337788578371811, 'turn_request': 0.9738760631834751, 'joint_goal': 0.8857837181044957}\n",
        "Epoch 21\n",
        "100% 14899/14899 [27:52<00:00,  8.91it/s, Train Loss: 0.0005583921078835009]\n",
        "Evaluations after epoch 21\n",
        "{'turn_inform': 0.9493975903614458, 'turn_request': 0.9843373493975903, 'joint_goal': 0.908433734939759}\n",
        "{'turn_inform': 0.9349939246658566, 'turn_request': 0.9738760631834751, 'joint_goal': 0.8894289185905225}\n",
        "Epoch 22\n",
        "100% 14899/14899 [27:53<00:00,  8.90it/s, Train Loss: 0.000534607126276905]\n",
        "Evaluations after epoch 22\n",
        "{'turn_inform': 0.9506024096385542, 'turn_request': 0.9855421686746988, 'joint_goal': 0.9072289156626506}\n",
        "{'turn_inform': 0.9349939246658566, 'turn_request': 0.9738760631834751, 'joint_goal': 0.8888213851761847}\n",
        "Epoch 23\n",
        "100% 14899/14899 [27:53<00:00,  8.91it/s, Train Loss: 0.0005123640354509577]\n",
        "Evaluations after epoch 23\n",
        "{'turn_inform': 0.9506024096385542, 'turn_request': 0.9855421686746988, 'joint_goal': 0.9072289156626506}\n",
        "{'turn_inform': 0.9349939246658566, 'turn_request': 0.9738760631834751, 'joint_goal': 0.8888213851761847}\n",
        "Epoch 24\n",
        "100% 14899/14899 [27:54<00:00,  8.90it/s, Train Loss: 0.0004920341392591597]\n",
        "Evaluations after epoch 24\n",
        "{'turn_inform': 0.9506024096385542, 'turn_request': 0.9855421686746988, 'joint_goal': 0.9072289156626506}\n",
        "{'turn_inform': 0.93681652490887, 'turn_request': 0.9744835965978129, 'joint_goal': 0.893681652490887}\n",
        " !!!!!!!!!!!!!!!!!!!!! main end"
      ],
      "metadata": {
        "id": "BTaXaqiotlZU"
      },
      "execution_count": null,
      "outputs": []
    },
    {
      "cell_type": "markdown",
      "source": [
        ""
      ],
      "metadata": {
        "id": "waNzld_oqBEH"
      }
    }
  ]
}