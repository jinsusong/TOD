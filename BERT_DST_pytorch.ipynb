{
  "nbformat": 4,
  "nbformat_minor": 0,
  "metadata": {
    "colab": {
      "name": "BERT DST pytorch.ipynb",
      "private_outputs": true,
      "provenance": [],
      "authorship_tag": "ABX9TyPspfiMNaGBiKu8rL3RFG93",
      "include_colab_link": true
    },
    "kernelspec": {
      "name": "python3",
      "display_name": "Python 3"
    },
    "language_info": {
      "name": "python"
    }
  },
  "cells": [
    {
      "cell_type": "markdown",
      "metadata": {
        "id": "view-in-github",
        "colab_type": "text"
      },
      "source": [
        "<a href=\"https://colab.research.google.com/github/jinsusong/TOD/blob/main/BERT_DST_pytorch.ipynb\" target=\"_parent\"><img src=\"https://colab.research.google.com/assets/colab-badge.svg\" alt=\"Open In Colab\"/></a>"
      ]
    },
    {
      "cell_type": "code",
      "execution_count": null,
      "metadata": {
        "id": "739_mTH3hir9"
      },
      "outputs": [],
      "source": [
        "!git clone https://github.com/laituan245/BERT-Dialog-State-Tracking.git"
      ]
    },
    {
      "cell_type": "code",
      "source": [
        ""
      ],
      "metadata": {
        "id": "aeTfSX22hlaU"
      },
      "execution_count": null,
      "outputs": []
    }
  ]
}